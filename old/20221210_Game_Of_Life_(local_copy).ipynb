{
 "cells": [
  {
   "cell_type": "code",
   "execution_count": 1,
   "id": "6da131b5-1c5f-4b1f-9372-b063ba087ab3",
   "metadata": {},
   "outputs": [],
   "source": [
    "import pandas as pd\n",
    "import numpy as np"
   ]
  },
  {
   "cell_type": "code",
   "execution_count": 2,
   "id": "17e91e18-3d82-4e86-8bf7-2e84889aa534",
   "metadata": {},
   "outputs": [],
   "source": [
    "BOARD_SIZE = 10"
   ]
  },
  {
   "cell_type": "code",
   "execution_count": 3,
   "id": "d49c0503-5224-484e-a570-be3ab53e76a4",
   "metadata": {},
   "outputs": [],
   "source": [
    "board = np.zeros([BOARD_SIZE, BOARD_SIZE], dtype=int)"
   ]
  },
  {
   "cell_type": "code",
   "execution_count": 4,
   "id": "88a90110-aaf0-4f6a-ba4e-e74d599b7166",
   "metadata": {},
   "outputs": [],
   "source": [
    "board[5][5] = 1"
   ]
  },
  {
   "cell_type": "code",
   "execution_count": 5,
   "id": "bd321564-794e-4f72-8998-e9b2ccbd67fc",
   "metadata": {},
   "outputs": [
    {
     "data": {
      "text/plain": [
       "array([[0, 0, 0, 0, 0, 0, 0, 0, 0, 0],\n",
       "       [0, 0, 0, 0, 0, 0, 0, 0, 0, 0],\n",
       "       [0, 0, 0, 0, 0, 0, 0, 0, 0, 0],\n",
       "       [0, 0, 0, 0, 0, 0, 0, 0, 0, 0],\n",
       "       [0, 0, 0, 0, 0, 0, 0, 0, 0, 0],\n",
       "       [0, 0, 0, 0, 0, 1, 0, 0, 0, 0],\n",
       "       [0, 0, 0, 0, 0, 0, 0, 0, 0, 0],\n",
       "       [0, 0, 0, 0, 0, 0, 0, 0, 0, 0],\n",
       "       [0, 0, 0, 0, 0, 0, 0, 0, 0, 0],\n",
       "       [0, 0, 0, 0, 0, 0, 0, 0, 0, 0]])"
      ]
     },
     "execution_count": 5,
     "metadata": {},
     "output_type": "execute_result"
    }
   ],
   "source": [
    "board"
   ]
  },
  {
   "cell_type": "code",
   "execution_count": 21,
   "id": "1641e4d6-8b3e-470b-a3fb-2a16a82c83ea",
   "metadata": {},
   "outputs": [
    {
     "ename": "SyntaxError",
     "evalue": "invalid syntax (446342174.py, line 1)",
     "output_type": "error",
     "traceback": [
      "\u001b[1;36m  Input \u001b[1;32mIn [21]\u001b[1;36m\u001b[0m\n\u001b[1;33m    board_from_csv = pd.read_csv('board.csv', sep=';')?\u001b[0m\n\u001b[1;37m                                                      ^\u001b[0m\n\u001b[1;31mSyntaxError\u001b[0m\u001b[1;31m:\u001b[0m invalid syntax\n"
     ]
    }
   ],
   "source": [
    "board_from_csv = pd.read_csv('board.csv', sep=';')\n",
    "board_from_csv.columns=range(BOARD_SIZE)\n",
    "board_from_csv"
   ]
  },
  {
   "cell_type": "code",
   "execution_count": 13,
   "id": "8539dbea-c159-424f-ab3b-5db7dc889ca4",
   "metadata": {},
   "outputs": [
    {
     "data": {
      "text/plain": [
       "['0;0;0;0;0;0;0;0;0;0\\n',\n",
       " '0;0;0;0;0;0;0;0;0;0\\n',\n",
       " '0;0;0;0;0;0;0;0;0;0\\n',\n",
       " '0;0;0;1;0;0;0;0;0;0\\n',\n",
       " '0;0;1;1;1;0;0;0;0;0\\n',\n",
       " '0;0;0;1;0;0;0;0;0;0\\n',\n",
       " '0;0;0;0;0;0;0;0;0;0\\n',\n",
       " '0;0;0;0;0;0;0;0;0;0\\n',\n",
       " '0;0;0;0;0;0;0;0;0;0\\n',\n",
       " '0;0;0;0;0;0;0;0;0;0\\n']"
      ]
     },
     "execution_count": 13,
     "metadata": {},
     "output_type": "execute_result"
    }
   ],
   "source": [
    "list(open('board.csv'))"
   ]
  },
  {
   "cell_type": "code",
   "execution_count": 12,
   "id": "67b8f3aa-c8b2-4c79-9847-9b7dc02a6f03",
   "metadata": {},
   "outputs": [
    {
     "data": {
      "text/html": [
       "<div>\n",
       "<style scoped>\n",
       "    .dataframe tbody tr th:only-of-type {\n",
       "        vertical-align: middle;\n",
       "    }\n",
       "\n",
       "    .dataframe tbody tr th {\n",
       "        vertical-align: top;\n",
       "    }\n",
       "\n",
       "    .dataframe thead th {\n",
       "        text-align: right;\n",
       "    }\n",
       "</style>\n",
       "<table border=\"1\" class=\"dataframe\">\n",
       "  <thead>\n",
       "    <tr style=\"text-align: right;\">\n",
       "      <th></th>\n",
       "      <th>1</th>\n",
       "      <th>2</th>\n",
       "    </tr>\n",
       "  </thead>\n",
       "  <tbody>\n",
       "    <tr>\n",
       "      <th>0</th>\n",
       "      <td>2</td>\n",
       "      <td>3</td>\n",
       "    </tr>\n",
       "  </tbody>\n",
       "</table>\n",
       "</div>"
      ],
      "text/plain": [
       "   1  2\n",
       "0  2  3"
      ]
     },
     "execution_count": 12,
     "metadata": {},
     "output_type": "execute_result"
    }
   ],
   "source": [
    "pd.DataFrame({'1':[2], '2':[3]})"
   ]
  },
  {
   "cell_type": "code",
   "execution_count": 14,
   "id": "9b579a0d-a0f5-42d5-b2d0-34818dfa02dd",
   "metadata": {},
   "outputs": [
    {
     "ename": "NameError",
     "evalue": "name 'df' is not defined",
     "output_type": "error",
     "traceback": [
      "\u001b[1;31m---------------------------------------------------------------------------\u001b[0m",
      "\u001b[1;31mNameError\u001b[0m                                 Traceback (most recent call last)",
      "Input \u001b[1;32mIn [14]\u001b[0m, in \u001b[0;36m<cell line: 1>\u001b[1;34m()\u001b[0m\n\u001b[1;32m----> 1\u001b[0m \u001b[43mdf\u001b[49m\n",
      "\u001b[1;31mNameError\u001b[0m: name 'df' is not defined"
     ]
    }
   ],
   "source": [
    "df"
   ]
  }
 ],
 "metadata": {
  "kernelspec": {
   "display_name": "Python 3 (ipykernel)",
   "language": "python",
   "name": "python3"
  },
  "language_info": {
   "codemirror_mode": {
    "name": "ipython",
    "version": 3
   },
   "file_extension": ".py",
   "mimetype": "text/x-python",
   "name": "python",
   "nbconvert_exporter": "python",
   "pygments_lexer": "ipython3",
   "version": "3.8.13"
  }
 },
 "nbformat": 4,
 "nbformat_minor": 5
}
